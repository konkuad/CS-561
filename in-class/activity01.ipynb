{
 "cells": [
  {
   "cell_type": "markdown",
   "metadata": {},
   "source": [
    "# 1. Introduce yourself to your other group members.\n",
    "### a) Who/where is the group member who is physically furthest from Engineering Hall on UW’s campus? \n",
    "Jedd's apartment is furthest\n",
    "### b) Who/where is the group member that is physically closest to Engineering Hall\n",
    "Adhi's apartment is closest\n",
    "\n",
    "# 2. Set up your numerical computing environment.\n",
    "I'm using jupyter notebook on my local environment\n",
    "\n",
    "# 3. Download and run the included notebook.\n",
    "### a) What digit is represented by the matrix in the first cell?\n",
    "Seven (7)\n",
    "### b) Re-run the last cell a few times, and observe the resulting image. Does it represent a handwritten digit?\n",
    "No, and it's really unlikely the generation to form an actual handwritten digit.\n",
    "### c) How would you write a program that generates images that do represent random hand- written digits? Note that there is not a single answer, and we will spend a lot of the course thinking about this question.\n",
    "I'll probably use a simple GAN model (fully connected CNN with 8x8 output shape) trained on the MNIST dataset. I can add a condiitonal encoding to ensure I can specify what digit my network would generate."
   ]
  },
  {
   "cell_type": "code",
   "execution_count": 1,
   "metadata": {},
   "outputs": [
    {
     "data": {
      "image/png": "[encoded data removed]",
      "text/plain": [
       "<Figure size 640x480 with 1 Axes>"
      ]
     },
     "metadata": {},
     "output_type": "display_data"
    }
   ],
   "source": [
    "import numpy as np\n",
    "import matplotlib.pyplot as plt\n",
    "\n",
    "# create a matrix to represent a drawing of '7'\n",
    "x = np.zeros((8,8))\n",
    "x[2,3:6] = 1\n",
    "x[3,5] = 1\n",
    "x[4:6,4] = 1\n",
    "\n",
    "# display image\n",
    "plt.imshow(np.round(x,0), cmap='gray_r'), plt.axis('off')\n",
    "plt.show()"
   ]
  },
  {
   "cell_type": "code",
   "execution_count": 2,
   "metadata": {},
   "outputs": [
    {
     "name": "stdout",
     "output_type": "stream",
     "text": [
      "my random number: \n",
      " [0.]\n"
     ]
    }
   ],
   "source": [
    "# generate a random 0 or 1\n",
    "x = np.round(np.random.rand(1))\n",
    "print('my random number: \\n', x)"
   ]
  },
  {
   "cell_type": "code",
   "execution_count": 3,
   "metadata": {},
   "outputs": [
    {
     "name": "stdout",
     "output_type": "stream",
     "text": [
      "my random matrix: \n",
      " [[1. 0. 1. 0. 0. 0. 0. 1.]\n",
      " [0. 0. 0. 1. 1. 1. 0. 0.]\n",
      " [1. 0. 0. 0. 1. 0. 0. 1.]\n",
      " [0. 1. 1. 1. 1. 0. 0. 1.]\n",
      " [1. 1. 0. 0. 1. 1. 0. 0.]\n",
      " [1. 1. 1. 1. 1. 0. 0. 1.]\n",
      " [0. 1. 0. 0. 0. 1. 1. 0.]\n",
      " [1. 1. 1. 1. 0. 1. 1. 0.]]\n"
     ]
    },
    {
     "data": {
      "image/png": "[encoded data removed]",
      "text/plain": [
       "<Figure size 640x480 with 1 Axes>"
      ]
     },
     "metadata": {},
     "output_type": "display_data"
    }
   ],
   "source": [
    "# generate a random 8x8 matrix\n",
    "x = np.round(np.random.rand(8,8))\n",
    "print('my random matrix: \\n', x)\n",
    "\n",
    "# display the matrix as an image\n",
    "plt.imshow(x, cmap='gray_r'), plt.axis('off')\n",
    "plt.show()"
   ]
  },
  {
   "cell_type": "code",
   "execution_count": 6,
   "metadata": {},
   "outputs": [
    {
     "name": "stdout",
     "output_type": "stream",
     "text": [
      "[NbConvertApp] Converting notebook activity01.ipynb to html\n",
      "[NbConvertApp] Writing 623936 bytes to activity01.html\n"
     ]
    }
   ],
   "source": [
    "!jupyter nbconvert --to html activity01.ipynb"
   ]
  },
  {
   "cell_type": "code",
   "execution_count": null,
   "metadata": {},
   "outputs": [],
   "source": []
  }
 ],
 "metadata": {
  "kernelspec": {
   "display_name": "Python 3 (ipykernel)",
   "language": "python",
   "name": "python3"
  },
  "language_info": {
   "codemirror_mode": {
    "name": "ipython",
    "version": 3
   },
   "file_extension": ".py",
   "mimetype": "text/x-python",
   "name": "python",
   "nbconvert_exporter": "python",
   "pygments_lexer": "ipython3",
   "version": "3.10.6"
  }
 },
 "nbformat": 4,
 "nbformat_minor": 2
}

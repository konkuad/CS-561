{
 "cells": [
  {
   "cell_type": "code",
   "execution_count": 7,
   "id": "1f4114e3",
   "metadata": {},
   "outputs": [
    {
     "name": "stdout",
     "output_type": "stream",
     "text": [
      "\\item $P(Z=2)=P(X=1,Y=1)=p_1q_1$\n",
      "\\item $P(Z=3)=P(X=1,Y=2)+P(X=2,Y=1)=p_1q_2+p_2q_1$\n",
      "\\item $P(Z=4)=P(X=1,Y=3)+P(X=2,Y=2)+P(X=3,Y=1)=p_1q_3+p_2q_2+p_3q_1$\n",
      "\\item $P(Z=5)=P(X=1,Y=4)+P(X=2,Y=3)+P(X=3,Y=2)+P(X=4,Y=1)=p_1q_4+p_2q_3+p_3q_2+p_4q_1$\n",
      "\\item $P(Z=6)=P(X=1,Y=5)+P(X=2,Y=4)+P(X=3,Y=3)+P(X=4,Y=2)+P(X=5,Y=1)=p_1q_5+p_2q_4+p_3q_3+p_4q_2+p_5q_1$\n",
      "\\item $P(Z=7)=P(X=1,Y=6)+P(X=2,Y=5)+P(X=3,Y=4)+P(X=4,Y=3)+P(X=5,Y=2)+P(X=6,Y=1)=p_1q_6+p_2q_5+p_3q_4+p_4q_3+p_5q_2+p_6q_1$\n",
      "\\item $P(Z=8)=P(X=1,Y=7)+P(X=2,Y=6)+P(X=3,Y=5)+P(X=4,Y=4)+P(X=5,Y=3)+P(X=6,Y=2)+P(X=7,Y=1)=p_1q_7+p_2q_6+p_3q_5+p_4q_4+p_5q_3+p_6q_2+p_7q_1$\n",
      "\\item $P(Z=9)=P(X=1,Y=8)+P(X=2,Y=7)+P(X=3,Y=6)+P(X=4,Y=5)+P(X=5,Y=4)+P(X=6,Y=3)+P(X=7,Y=2)+P(X=8,Y=1)=p_1q_8+p_2q_7+p_3q_6+p_4q_5+p_5q_4+p_6q_3+p_7q_2+p_8q_1$\n",
      "\\item $P(Z=10)=P(X=1,Y=9)+P(X=2,Y=8)+P(X=3,Y=7)+P(X=4,Y=6)+P(X=5,Y=5)+P(X=6,Y=4)+P(X=7,Y=3)+P(X=8,Y=2)+P(X=9,Y=1)=p_1q_9+p_2q_8+p_3q_7+p_4q_6+p_5q_5+p_6q_4+p_7q_3+p_8q_2+p_9q_1$\n",
      "\\item $P(Z=11)=P(X=1,Y=10)+P(X=2,Y=9)+P(X=3,Y=8)+P(X=4,Y=7)+P(X=5,Y=6)+P(X=6,Y=5)+P(X=7,Y=4)+P(X=8,Y=3)+P(X=9,Y=2)+P(X=10,Y=1)=p_1q_10+p_2q_9+p_3q_8+p_4q_7+p_5q_6+p_6q_5+p_7q_4+p_8q_3+p_9q_2+p_10q_1$\n",
      "\\item $P(Z=12)=P(X=1,Y=11)+P(X=2,Y=10)+P(X=3,Y=9)+P(X=4,Y=8)+P(X=5,Y=7)+P(X=6,Y=6)+P(X=7,Y=5)+P(X=8,Y=4)+P(X=9,Y=3)+P(X=10,Y=2)+P(X=11,Y=1)=p_1q_11+p_2q_10+p_3q_9+p_4q_8+p_5q_7+p_6q_6+p_7q_5+p_8q_4+p_9q_3+p_10q_2+p_11q_1$\n"
     ]
    }
   ],
   "source": [
    "def write(n):\n",
    "    out = f\"\\\\item $P(Z={n})=\"\n",
    "    for i in range(1,n):\n",
    "        out += f\"P(X={i},Y={n-i})+\"\n",
    "    out = out[:-1]\n",
    "    out += \"=\"\n",
    "    for i in range(1,n):\n",
    "        out += f\"p_{i}q_{n-i}+\"\n",
    "    out = out[:-1]\n",
    "    out += \"$\"\n",
    "    print(out)\n",
    "\n",
    "for i in range(2,13):\n",
    "    write(i)"
   ]
  },
  {
   "cell_type": "code",
   "execution_count": 13,
   "id": "3db22e78",
   "metadata": {},
   "outputs": [],
   "source": [
    "import random\n",
    "def sample():\n",
    "    return random.choices(\n",
    "        population=[[1,1],[1,2],[2,1],[2,2]],\n",
    "        weights=[1/8,1/8,1/2,1/4],\n",
    "    )[0]"
   ]
  },
  {
   "cell_type": "code",
   "execution_count": 17,
   "id": "e17a8196",
   "metadata": {},
   "outputs": [
    {
     "data": {
      "text/plain": [
       "15.0"
      ]
     },
     "execution_count": 17,
     "metadata": {},
     "output_type": "execute_result"
    }
   ],
   "source": [
    "0.9375*16"
   ]
  },
  {
   "cell_type": "code",
   "execution_count": null,
   "id": "c67da2b8",
   "metadata": {},
   "outputs": [],
   "source": []
  }
 ],
 "metadata": {
  "kernelspec": {
   "display_name": "Python 3 (ipykernel)",
   "language": "python",
   "name": "python3"
  },
  "language_info": {
   "codemirror_mode": {
    "name": "ipython",
    "version": 3
   },
   "file_extension": ".py",
   "mimetype": "text/x-python",
   "name": "python",
   "nbconvert_exporter": "python",
   "pygments_lexer": "ipython3",
   "version": "3.10.6"
  }
 },
 "nbformat": 4,
 "nbformat_minor": 5
}

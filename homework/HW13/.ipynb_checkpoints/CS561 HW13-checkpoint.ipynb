{
 "cells": [
  {
   "cell_type": "markdown",
   "metadata": {},
   "source": [
    "# Problem 1"
   ]
  },
  {
   "cell_type": "markdown",
   "metadata": {},
   "source": [
    "The pmf of the multinomial distribution $(X_1,X_2,\\dots,X_k)\\sim\\text{Multi}(\\mathbf{p})$ with multinomial parameter $\\mathbf{p}=(p_1,p_2,\\dots,p_k)$ is given as\n",
    "$$\n",
    "P(X_i=k_i:i=1,2,\\dots,K)=\\frac{n!}{k_1!k_2!\\dots k_K!} p_1^{k_1} p_2^{k_2} \\dots p_K^{k_K}\n",
    "$$\n",
    "We can derive the KL-divergence between $\\text{Multi}(\\mathbf{p})$ and $\\text{Multi}(\\mathbf{q})$ as follows:\n",
    "\\begin{align*}\n",
    "    D_{KL}(\\text{Multi}(\\mathbf{p}),\\text{Multi}(\\mathbf{q}))\n",
    "    &= \n",
    "\\end{align*}"
   ]
  },
  {
   "cell_type": "markdown",
   "metadata": {},
   "source": [
    "# Problem 2"
   ]
  },
  {
   "cell_type": "code",
   "execution_count": null,
   "metadata": {},
   "outputs": [],
   "source": [
    "import numpy as np\n",
    "import tensorflow as tf\n",
    "from sklearn.linear_model import LogisticRegression\n",
    "import matplotlib.pyplot as plt\n",
    "from matplotlib import pyplot as plt\n",
    "\n",
    "(x_train, y_train), (x_test, y_test) = tf.keras.datasets.mnist.load_data()\n",
    "print(np.shape(x_train))\n",
    "\n",
    "def vectorize(_image):\n",
    "    return np.reshape(_image, (-1,1))\n",
    "\n",
    "vec_x_train = np.squeeze(np.array([vectorize(m) for m in x_train]))\n",
    "vec_x_test = np.squeeze(np.array([vectorize(m) for m in x_test]))\n",
    "\n",
    "# generate an instance of the logistic regression class model with multinomial logistic regression\n",
    "model = LogisticRegression(solver='saga', tol=0.01, multi_class='multinomial')\n",
    "\n",
    "# use model.fit(some arguments) to fit the model to the data  "
   ]
  },
  {
   "cell_type": "code",
   "execution_count": null,
   "metadata": {},
   "outputs": [],
   "source": [
    "from sklearn.metrics import classification_report\n",
    "\n",
    "### compute the accuracy and print a classification report\n",
    "# use model.predict(some arguments) to predict the class of the test data\n",
    "# use classification_report(some arguments) to print accuracy"
   ]
  },
  {
   "cell_type": "code",
   "execution_count": null,
   "metadata": {},
   "outputs": [],
   "source": [
    "from sklearn.preprocessing import OneHotEncoder\n",
    "\n",
    "# convert the 10 classes to one hot encoding\n",
    "one_hot = OneHotEncoder()\n",
    "Y_train = one_hot.fit_transform(y_train.reshape(-1,1)).toarray()\n",
    "Y_test = one_hot.fit_transform(y_test.reshape(-1,1)).toarray()\n",
    "print(np.shape(Y_train))"
   ]
  },
  {
   "cell_type": "code",
   "execution_count": null,
   "metadata": {
    "scrolled": false
   },
   "outputs": [],
   "source": [
    "import keras\n",
    "from keras.models import Sequential\n",
    "from keras.layers import Dense\n",
    "\n",
    "model = Sequential()\n",
    "model.add(Dense(10, activation='softmax'))\n",
    "model.compile(loss='categorical_crossentropy', optimizer='adam', metrics=['accuracy'])\n",
    "\n",
    "# use model.fit(some arguments) to fit the model to the data, specify the batch size and epochs"
   ]
  },
  {
   "cell_type": "code",
   "execution_count": null,
   "metadata": {},
   "outputs": [],
   "source": [
    "from sklearn.metrics import classification_report\n",
    "\n",
    "### compute the accuracy and print a classification report\n",
    "# use model.predict(some arguments) to predict the class of the test data\n",
    "# use classification_report(some arguments) to print accuracy"
   ]
  }
 ],
 "metadata": {
  "kernelspec": {
   "display_name": "Python 3 (ipykernel)",
   "language": "python",
   "name": "python3"
  },
  "language_info": {
   "codemirror_mode": {
    "name": "ipython",
    "version": 3
   },
   "file_extension": ".py",
   "mimetype": "text/x-python",
   "name": "python",
   "nbconvert_exporter": "python",
   "pygments_lexer": "ipython3",
   "version": "3.10.6"
  }
 },
 "nbformat": 4,
 "nbformat_minor": 2
}

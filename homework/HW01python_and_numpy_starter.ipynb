{
 "cells": [
  {
   "cell_type": "markdown",
   "id": "902958aa",
   "metadata": {},
   "source": [
    "# 1. Set up your environment (skip this if you’ve completed the first activity). There are several options for getting up and running:\n",
    "Done!"
   ]
  },
  {
   "cell_type": "markdown",
   "id": "b5e6d08f",
   "metadata": {},
   "source": [
    "# 2. Lists, tuples, sets and dictionaries. Use the starter notebook to help with the remaining problems. Four built in data structures in Python that we will make use of are lists, tuples, sets and dictionaries."
   ]
  },
  {
   "cell_type": "markdown",
   "id": "5e5c9743",
   "metadata": {},
   "source": [
    "### a. A list is exactly that: a list. Python lists are ordered and changeable. Write code to convert the following paragraph to a list of strings:\n",
    "Answer: list_of_strings = in_string.split()\n",
    "\n",
    "### b. Create a new list that consists of every third word from the original list; print the new list, which should start with “of”. \n",
    "Answer: list_of_strings[2::3]\n",
    "\n",
    "### c. What is the 16th from last item in the original list?\n",
    "Answer: \"Uncovered\" (list_of_strings[-16])\n",
    "\n",
    "### d. Convert the new list you created in part b to a tuple; print the tuple. When should you use a tuple instead of a list?\n",
    "Answer: Use tuple() as a function. A tuple should be preferable when the items in the object is fixed (immutable) since tuples are immutable but faster than lists."
   ]
  },
  {
   "cell_type": "code",
   "execution_count": 1,
   "id": "b7f79028",
   "metadata": {},
   "outputs": [
    {
     "name": "stdout",
     "output_type": "stream",
     "text": [
      "List of strings is:\n",
      "['of', 'for', 'of', 'which', 'machine', 'in', 'define', 'as', 'of', 'can', 'patterns', 'and', 'the', 'to', 'data', 'perform', 'of', 'under']\n",
      "\n",
      "16th word from end is:\n",
      "uncovered\n",
      "\n",
      "Tuple of strings is:\n",
      "('of', 'for', 'of', 'which', 'machine', 'in', 'define', 'as', 'of', 'can', 'patterns', 'and', 'the', 'to', 'data', 'perform', 'of', 'under')\n"
     ]
    }
   ],
   "source": [
    "# Use triple quotes if you want to enter a string on more than one line\n",
    "\n",
    "in_string = \"\"\"this deluge of data calls for automated methods of data analysis\n",
    "which is what machine learning provides in particular we define machine learning\n",
    "as a set of methods that can automatically detect patterns in data and then use\n",
    "the uncovered patterns to predict future data or to perform other kinds of decision\n",
    "making under uncertainty\"\"\"\n",
    "\n",
    "list_of_strings = in_string.split()       # https://www.w3schools.com/python/ref_string_split.asp\n",
    "print('List of strings is:')\n",
    "print(list_of_strings[2::3])              # fix me to answer the question\n",
    "\n",
    "print('\\n16th word from end is:')         # \\n generates a newline\n",
    "print(list_of_strings[-16])               # fix me to answer the question\n",
    "\n",
    "tuple_of_strings = tuple(list_of_strings)\n",
    "print('\\nTuple of strings is:')\n",
    "print(tuple(tuple_of_strings[2::3]))             # fix me to answer the question"
   ]
  },
  {
   "cell_type": "markdown",
   "id": "6eef01b5",
   "metadata": {},
   "source": [
    "### e . Convert the list to a set and print the set. How many items are in the set? What is the difference between a list and a set?\n",
    "Answer: There are 43 items in the set. A set is hashed (thus could only contain hashable items) and never contains repetitive items. "
   ]
  },
  {
   "cell_type": "code",
   "execution_count": 2,
   "id": "38756e89",
   "metadata": {},
   "outputs": [
    {
     "name": "stdout",
     "output_type": "stream",
     "text": [
      "Set of strings is:\n",
      "{'which', 'or', 'then', 'kinds', 'uncovered', 'patterns', 'the', 'methods', 'use', 'deluge', 'in', 'this', 'define', 'and', 'decision', 'particular', 'perform', 'detect', 'data', 'under', 'automated', 'analysis', 'is', 'of', 'set', 'automatically', 'to', 'other', 'making', 'machine', 'predict', 'learning', 'provides', 'a', 'future', 'for', 'that', 'uncertainty', 'what', 'calls', 'we', 'can', 'as'}\n",
      "\n",
      "Number of strings in the set = 43\n",
      "\n",
      "Number of strings in the original list = 55\n"
     ]
    }
   ],
   "source": [
    "set_of_strings = set(list_of_strings)\n",
    "print('Set of strings is:\\n',set_of_strings,'\\n',sep='')         # What happens if you remove ,sep='' ? Answer: Nothing (sep is defaulted to empty string)\n",
    "print(f'Number of strings in the set = {len(set_of_strings)}\\n') # https://www.geeksforgeeks.org/formatted-string-literals-f-strings-python/\n",
    "print(f'Number of strings in the original list = {len(list_of_strings)}')"
   ]
  },
  {
   "cell_type": "markdown",
   "id": "a838db88",
   "metadata": {},
   "source": [
    "### f. A Python dictionary consists of key, value pairs. Create a Python dictionary where each distinct word in the paragraph above is the key, and the corresponding value is the count of times that word appears.\n",
    "Answer: the code below does that\n",
    "\n",
    "### g. Which word/words appears most frequently, and how many times does it appear?\n",
    "Answer: \"of\" and \"data\" (4 times each)"
   ]
  },
  {
   "cell_type": "code",
   "execution_count": 3,
   "id": "fa74e70c",
   "metadata": {},
   "outputs": [
    {
     "name": "stdout",
     "output_type": "stream",
     "text": [
      "Dictionary is:\n",
      "{'this': 1, 'deluge': 1, 'of': 4, 'data': 4, 'calls': 1, 'for': 1, 'automated': 1, 'methods': 2, 'analysis': 1, 'which': 1, 'is': 1, 'what': 1, 'machine': 2, 'learning': 2, 'provides': 1, 'in': 2, 'particular': 1, 'we': 1, 'define': 1, 'as': 1, 'a': 1, 'set': 1, 'that': 1, 'can': 1, 'automatically': 1, 'detect': 1, 'patterns': 2, 'and': 1, 'then': 1, 'use': 1, 'the': 1, 'uncovered': 1, 'to': 2, 'predict': 1, 'future': 1, 'or': 1, 'perform': 1, 'other': 1, 'kinds': 1, 'decision': 1, 'making': 1, 'under': 1, 'uncertainty': 1}\n",
      "\n",
      "Wordcounts = dict_values([1, 1, 4, 4, 1, 1, 1, 2, 1, 1, 1, 1, 2, 2, 1, 2, 1, 1, 1, 1, 1, 1, 1, 1, 1, 1, 2, 1, 1, 1, 1, 1, 2, 1, 1, 1, 1, 1, 1, 1, 1, 1, 1])\n",
      "\n",
      "max word count is 4\n",
      "\"of\" occurs 4 times\n",
      "\"data\" occurs 4 times\n"
     ]
    }
   ],
   "source": [
    "d = {}  #create an empty dictionary\n",
    "for i in list_of_strings:\n",
    "    if i not in d:\n",
    "        d[i]=0\n",
    "    d[i]=d[i]+1                       # <====== complete this line\n",
    "\n",
    "print(f'Dictionary is:\\n{d}\\n') # Print dictionary and extra newline\n",
    "\n",
    "v = d.values() # extract word counts\n",
    "print(f'Wordcounts = {v}\\n') # print word counts\n",
    "maxv = max(v) # find largest word count\n",
    "print(f'max word count is {maxv}')\n",
    "for i in d:\n",
    "    if d[i]==maxv:\n",
    "        print(f'\"{i}\" occurs {maxv} times')"
   ]
  },
  {
   "cell_type": "markdown",
   "id": "3dee5420",
   "metadata": {},
   "source": [
    "### h. Use a list comprehension to convert the dictionary to a list of tuples, where the first element of the tuple contains the key, and the second element contains the value. Note that your code should be a single line.\n",
    "Answer: the code below does that"
   ]
  },
  {
   "cell_type": "code",
   "execution_count": 4,
   "id": "33332b14",
   "metadata": {},
   "outputs": [
    {
     "name": "stdout",
     "output_type": "stream",
     "text": [
      "The list of tuples is:\n",
      "[('this', 1), ('deluge', 1), ('of', 4), ('data', 4), ('calls', 1), ('for', 1), ('automated', 1), ('methods', 2), ('analysis', 1), ('which', 1), ('is', 1), ('what', 1), ('machine', 2), ('learning', 2), ('provides', 1), ('in', 2), ('particular', 1), ('we', 1), ('define', 1), ('as', 1), ('a', 1), ('set', 1), ('that', 1), ('can', 1), ('automatically', 1), ('detect', 1), ('patterns', 2), ('and', 1), ('then', 1), ('use', 1), ('the', 1), ('uncovered', 1), ('to', 2), ('predict', 1), ('future', 1), ('or', 1), ('perform', 1), ('other', 1), ('kinds', 1), ('decision', 1), ('making', 1), ('under', 1), ('uncertainty', 1)]\n"
     ]
    }
   ],
   "source": [
    "list_of_tuples = [(k,v) for k,v in d.items()]  #this line uses a list comprehension \n",
    "print(f'The list of tuples is:\\n{list_of_tuples}')"
   ]
  },
  {
   "cell_type": "markdown",
   "id": "c2c92a9c",
   "metadata": {},
   "source": [
    "# 3. NumPy is a numerical computing package for Python. You’ll often see the library imported at the beginning of a script as import numpy as np."
   ]
  },
  {
   "cell_type": "markdown",
   "id": "776bcbc3",
   "metadata": {},
   "source": [
    "### a. Python lists can be converted to NumPy arrays. Manually create a list of lists that represents the matrix\n",
    "Answer: A = [[1,1,3],[4,4,4],[5,6,9]]\n",
    "\n",
    "### b. Convert the list of lists to a numpy array using np.array().\n",
    "Answer: A = np.array(A)\n",
    "\n",
    "### c. What is A^{−1}?\n",
    "Answer: A_inv = np.linalg.inv(A) \n",
    "\n",
    "### d. Solve Ax = b, where b = [1, 2, 3].T\n",
    "Answer: x = np.linalg.solve(A,b) or A_inv@b (the former is more efficient)\n",
    "\n",
    "### e. Create a length n array random numbers distributed uniformly between 0 and 1\n",
    "Answer: rng = np.random.default_rng(); y = rng.random(n)\n",
    "\n",
    "### f. Repeat for n = 10^1, 10^2, 10^3, 10^4, 10^5, 10^6, 10^7, 10^8 For each value of n, record the minimum value of the array. Create a plot with n on the horizontal axis and the logarithm of the minimum value on the vertical axis. Are the results what you expect? Why?\n",
    "Answer: the code below does that. The results are as expected since the expectation of the minimum of several uniform random variables diminishes the more random variable there are."
   ]
  },
  {
   "cell_type": "code",
   "execution_count": 6,
   "id": "221d9eb4",
   "metadata": {},
   "outputs": [
    {
     "name": "stdout",
     "output_type": "stream",
     "text": [
      "The inverse of A is\n",
      "[[ 1.5    1.125 -1.   ]\n",
      " [-2.    -0.75   1.   ]\n",
      " [ 0.5   -0.125  0.   ]]\n",
      "\n",
      "b =\n",
      "[[1]\n",
      " [2]\n",
      " [3]]\n",
      "\n",
      "x = A_inv*b =\n",
      "[[ 0.75]\n",
      " [-0.5 ]\n",
      " [ 0.25]]\n",
      "\n",
      "x = np.linalg.solve(A,b) =\n",
      "[[ 0.75]\n",
      " [-0.5 ]\n",
      " [ 0.25]]\n"
     ]
    },
    {
     "data": {
      "text/plain": [
       "[<matplotlib.lines.Line2D at 0x7f4308dd52d0>]"
      ]
     },
     "execution_count": 6,
     "metadata": {},
     "output_type": "execute_result"
    },
    {
     "data": {
      "image/png": "[encoded data removed]",
      "text/plain": [
       "<Figure size 640x480 with 1 Axes>"
      ]
     },
     "metadata": {},
     "output_type": "display_data"
    }
   ],
   "source": [
    "import numpy as np\n",
    "import matplotlib.pyplot as plt\n",
    "\n",
    "A = [[1,1,3],[4,4,4],[5,6,9]]\n",
    "A = np.array(A)\n",
    "A_inv = np.linalg.inv(A)         # complete this line.\n",
    "\n",
    "print(f'The inverse of A is\\n{A_inv}\\n')\n",
    "\n",
    "\n",
    "\n",
    "b = np.array([[1,2,3]]).T        # What happens if you don't use double square brackets? Answer: It\n",
    "print(f'b =\\n{b}\\n')\n",
    "x = A_inv@b                      # @ is the matrix multiplication operator in Numpy, NOT * !!!\n",
    "print(f'x = A_inv*b =\\n{x}\\n')\n",
    "\n",
    "x = np.linalg.solve(A,b)\n",
    "print(f'x = np.linalg.solve(A,b) =\\n{x}')\n",
    "\n",
    "\n",
    "\n",
    "### Write code below to answer question\n",
    "# https://numpy.org/doc/stable/reference/random/index.html\n",
    "rng = np.random.default_rng()\n",
    "\n",
    "logmin_y = np.log(np.array([np.min(rng.random(10**n)) for n in range(1,9)]))\n",
    "n = np.array([10**n for n in range(1,9)])\n",
    "\n",
    "plt.plot(n, logmin_y)\n",
    "\n",
    "# https://danieltakeshi.github.io/2016/09/25/the-expectation-of-the-minimum-of-iid-uniform-random-variables/"
   ]
  },
  {
   "cell_type": "code",
   "execution_count": null,
   "id": "9fa04804",
   "metadata": {},
   "outputs": [],
   "source": []
  }
 ],
 "metadata": {
  "kernelspec": {
   "display_name": "Python 3 (ipykernel)",
   "language": "python",
   "name": "python3"
  },
  "language_info": {
   "codemirror_mode": {
    "name": "ipython",
    "version": 3
   },
   "file_extension": ".py",
   "mimetype": "text/x-python",
   "name": "python",
   "nbconvert_exporter": "python",
   "pygments_lexer": "ipython3",
   "version": "3.10.6"
  }
 },
 "nbformat": 4,
 "nbformat_minor": 5
}
